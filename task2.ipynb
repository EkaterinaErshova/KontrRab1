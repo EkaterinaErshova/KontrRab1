{
 "cells": [
  {
   "cell_type": "code",
   "execution_count": 13,
   "id": "9b46d63d",
   "metadata": {},
   "outputs": [
    {
     "name": "stdout",
     "output_type": "stream",
     "text": [
      "Введите координаты фигуры Белый король\n",
      "A1\n",
      "Введите координаты фигуры Черная пешка\n",
      "D4\n",
      "1 1 4 4\n",
      "Фигуры друг друга не бьют\n"
     ]
    }
   ],
   "source": [
    "print (\"Введите координаты фигуры Белый король\")\n",
    "K = input()\n",
    "I = ['A' , 'B' , 'C' , 'D' , 'E' , 'F' , 'G' , 'H']\n",
    "J = ['1' , '2' , '3' , '4' , '5' , '6' , '7' , '8']\n",
    "while K[0] not in I1 or K[1] not in J1:\n",
    "    print (\"Координаты фигуры введены неверно. Первый символ – это латинская буква от A до H. Второй символ – это число от 1 до 8.\")\n",
    "    print (\"Введите координаты фигуры Белый король\")\n",
    "    K = input()\n",
    "print (\"Введите координаты фигуры Черная пешка\")\n",
    "P = input()\n",
    "I = ['A' , 'B' , 'C' , 'D' , 'E' , 'F' , 'G' , 'H']\n",
    "J = ['1' , '2' , '3' , '4' , '5' , '6' , '7' , '8']\n",
    "while P[0] not in I or P[1] not in J:\n",
    "    print (\"Координаты фигуры введены неверно. Первый символ – это латинская буква от A до H. Второй символ – это число от 1 до 8.\")\n",
    "    print (\"Введите координаты фигуры Черная пешка\")\n",
    "    P = input()\n",
    "i1 = I.index(K[0])+1\n",
    "j1 = int (K[1])\n",
    "i2 = I.index(P[0])+1\n",
    "j2 = int (P[1])\n",
    "if (i2-i1 == 1 and j2-j1 == 1) or (i1-i2 == 1 and j2-j1 == 1) or (i2-i1 == 1 and j1-j2 == 1) or (i1-i2 == 1 and j1-j2 == 1):\n",
    "    print (\"Kороль бьет пешку\")\n",
    "    if (j2-j1 == 1 and i2-i1 == 1) or (j2-j1 == 1 and j1-j2 == 1):\n",
    "        print (\"Пешка бьет короля\")\n",
    "else:\n",
    "    print(\"Фигуры друг друга не бьют\")"
   ]
  }
 ],
 "metadata": {
  "kernelspec": {
   "display_name": "Python 3",
   "language": "python",
   "name": "python3"
  },
  "language_info": {
   "codemirror_mode": {
    "name": "ipython",
    "version": 3
   },
   "file_extension": ".py",
   "mimetype": "text/x-python",
   "name": "python",
   "nbconvert_exporter": "python",
   "pygments_lexer": "ipython3",
   "version": "3.8.5"
  }
 },
 "nbformat": 4,
 "nbformat_minor": 5
}
