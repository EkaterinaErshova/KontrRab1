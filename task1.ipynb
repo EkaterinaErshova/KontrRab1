{
 "cells": [
  {
   "cell_type": "code",
   "execution_count": 2,
   "metadata": {},
   "outputs": [
    {
     "name": "stdout",
     "output_type": "stream",
     "text": [
      "57840\n",
      "57840  бита - это  7  килобайт и  62.0  байта\n"
     ]
    }
   ],
   "source": [
    "b = int(input())\n",
    "KB = b // 8192\n",
    "B = (b % 8192) / 8\n",
    "print (b, ' бита - это ', KB, ' килобайт и ', B, ' байта')"
   ]
  },
  {
   "cell_type": "code",
   "execution_count": null,
   "metadata": {},
   "outputs": [],
   "source": []
  }
 ],
 "metadata": {
  "kernelspec": {
   "display_name": "Python 3",
   "language": "python",
   "name": "python3"
  },
  "language_info": {
   "codemirror_mode": {
    "name": "ipython",
    "version": 3
   },
   "file_extension": ".py",
   "mimetype": "text/x-python",
   "name": "python",
   "nbconvert_exporter": "python",
   "pygments_lexer": "ipython3",
   "version": "3.8.5"
  }
 },
 "nbformat": 4,
 "nbformat_minor": 4
}
